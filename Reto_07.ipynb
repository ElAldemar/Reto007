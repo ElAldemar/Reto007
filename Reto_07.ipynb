{
  "nbformat": 4,
  "nbformat_minor": 0,
  "metadata": {
    "colab": {
      "provenance": []
    },
    "kernelspec": {
      "name": "python3",
      "display_name": "Python 3"
    },
    "language_info": {
      "name": "python"
    }
  },
  "cells": [
    {
      "cell_type": "markdown",
      "source": [
        "**Reto 07**\n",
        "\n",
        "1. Imprimir un listado con los números del 1 al 100 cada uno con su respectivo cuadrado."
      ],
      "metadata": {
        "id": "sFNyVvTl3LbN"
      }
    },
    {
      "cell_type": "code",
      "execution_count": null,
      "metadata": {
        "colab": {
          "base_uri": "https://localhost:8080/"
        },
        "id": "rR5l535b3C_h",
        "outputId": "508f2c3c-3df9-446a-8665-fdd17dd157ed"
      },
      "outputs": [
        {
          "output_type": "stream",
          "name": "stdout",
          "text": [
            "Número: 1, Cuadrado: 1\n",
            "Número: 2, Cuadrado: 4\n",
            "Número: 3, Cuadrado: 9\n",
            "Número: 4, Cuadrado: 16\n",
            "Número: 5, Cuadrado: 25\n",
            "Número: 6, Cuadrado: 36\n",
            "Número: 7, Cuadrado: 49\n",
            "Número: 8, Cuadrado: 64\n",
            "Número: 9, Cuadrado: 81\n",
            "Número: 10, Cuadrado: 100\n",
            "Número: 11, Cuadrado: 121\n",
            "Número: 12, Cuadrado: 144\n",
            "Número: 13, Cuadrado: 169\n",
            "Número: 14, Cuadrado: 196\n",
            "Número: 15, Cuadrado: 225\n",
            "Número: 16, Cuadrado: 256\n",
            "Número: 17, Cuadrado: 289\n",
            "Número: 18, Cuadrado: 324\n",
            "Número: 19, Cuadrado: 361\n",
            "Número: 20, Cuadrado: 400\n",
            "Número: 21, Cuadrado: 441\n",
            "Número: 22, Cuadrado: 484\n",
            "Número: 23, Cuadrado: 529\n",
            "Número: 24, Cuadrado: 576\n",
            "Número: 25, Cuadrado: 625\n",
            "Número: 26, Cuadrado: 676\n",
            "Número: 27, Cuadrado: 729\n",
            "Número: 28, Cuadrado: 784\n",
            "Número: 29, Cuadrado: 841\n",
            "Número: 30, Cuadrado: 900\n",
            "Número: 31, Cuadrado: 961\n",
            "Número: 32, Cuadrado: 1024\n",
            "Número: 33, Cuadrado: 1089\n",
            "Número: 34, Cuadrado: 1156\n",
            "Número: 35, Cuadrado: 1225\n",
            "Número: 36, Cuadrado: 1296\n",
            "Número: 37, Cuadrado: 1369\n",
            "Número: 38, Cuadrado: 1444\n",
            "Número: 39, Cuadrado: 1521\n",
            "Número: 40, Cuadrado: 1600\n",
            "Número: 41, Cuadrado: 1681\n",
            "Número: 42, Cuadrado: 1764\n",
            "Número: 43, Cuadrado: 1849\n",
            "Número: 44, Cuadrado: 1936\n",
            "Número: 45, Cuadrado: 2025\n",
            "Número: 46, Cuadrado: 2116\n",
            "Número: 47, Cuadrado: 2209\n",
            "Número: 48, Cuadrado: 2304\n",
            "Número: 49, Cuadrado: 2401\n",
            "Número: 50, Cuadrado: 2500\n",
            "Número: 51, Cuadrado: 2601\n",
            "Número: 52, Cuadrado: 2704\n",
            "Número: 53, Cuadrado: 2809\n",
            "Número: 54, Cuadrado: 2916\n",
            "Número: 55, Cuadrado: 3025\n",
            "Número: 56, Cuadrado: 3136\n",
            "Número: 57, Cuadrado: 3249\n",
            "Número: 58, Cuadrado: 3364\n",
            "Número: 59, Cuadrado: 3481\n",
            "Número: 60, Cuadrado: 3600\n",
            "Número: 61, Cuadrado: 3721\n",
            "Número: 62, Cuadrado: 3844\n",
            "Número: 63, Cuadrado: 3969\n",
            "Número: 64, Cuadrado: 4096\n",
            "Número: 65, Cuadrado: 4225\n",
            "Número: 66, Cuadrado: 4356\n",
            "Número: 67, Cuadrado: 4489\n",
            "Número: 68, Cuadrado: 4624\n",
            "Número: 69, Cuadrado: 4761\n",
            "Número: 70, Cuadrado: 4900\n",
            "Número: 71, Cuadrado: 5041\n",
            "Número: 72, Cuadrado: 5184\n",
            "Número: 73, Cuadrado: 5329\n",
            "Número: 74, Cuadrado: 5476\n",
            "Número: 75, Cuadrado: 5625\n",
            "Número: 76, Cuadrado: 5776\n",
            "Número: 77, Cuadrado: 5929\n",
            "Número: 78, Cuadrado: 6084\n",
            "Número: 79, Cuadrado: 6241\n",
            "Número: 80, Cuadrado: 6400\n",
            "Número: 81, Cuadrado: 6561\n",
            "Número: 82, Cuadrado: 6724\n",
            "Número: 83, Cuadrado: 6889\n",
            "Número: 84, Cuadrado: 7056\n",
            "Número: 85, Cuadrado: 7225\n",
            "Número: 86, Cuadrado: 7396\n",
            "Número: 87, Cuadrado: 7569\n",
            "Número: 88, Cuadrado: 7744\n",
            "Número: 89, Cuadrado: 7921\n",
            "Número: 90, Cuadrado: 8100\n",
            "Número: 91, Cuadrado: 8281\n",
            "Número: 92, Cuadrado: 8464\n",
            "Número: 93, Cuadrado: 8649\n",
            "Número: 94, Cuadrado: 8836\n",
            "Número: 95, Cuadrado: 9025\n",
            "Número: 96, Cuadrado: 9216\n",
            "Número: 97, Cuadrado: 9409\n",
            "Número: 98, Cuadrado: 9604\n",
            "Número: 99, Cuadrado: 9801\n",
            "Número: 100, Cuadrado: 10000\n"
          ]
        }
      ],
      "source": [
        "def listado(): #nombrando funcion\n",
        "  for i in range(1, 101): #creando el rango\n",
        "    print(f\"Número: {i}, Cuadrado: {i**2}\") # el print hace a la vez de funcion y de \"print\" jajaja\n",
        "\n",
        "if __name__ == \"__main__\":\n",
        "  listado()"
      ]
    },
    {
      "cell_type": "markdown",
      "source": [
        "2. Imprimir un listado con los números impares desde 1 hasta 999 y seguidamente otro listado con los números pares desde 2 hasta 1000."
      ],
      "metadata": {
        "id": "ifbC4PQv3eFe"
      }
    },
    {
      "cell_type": "code",
      "source": [
        "def clasificacion(): # se nombra función y se crean los grupos vacios\n",
        "  pares = []\n",
        "  impares = []\n",
        "  for i in range(1,1001) : # Se crea el rango y la funcion como tal, si el residuo de una division por 2 es 0, es par, y se añade al grupo de pares o al de impares respectivamente\n",
        "    if i % 2 == 0 :\n",
        "      pares.append(i)\n",
        "    else :\n",
        "      impares.append(i)\n",
        "\n",
        "  print((f\"Numeros impares: {impares}\")) # los print\n",
        "  print((f\"Numeros pares: {pares}\"))\n",
        "\n",
        "if __name__ == \"__main__\": # la fiuncion principal\n",
        "  clasificacion()"
      ],
      "metadata": {
        "colab": {
          "base_uri": "https://localhost:8080/"
        },
        "id": "blmeDFOO3q6K",
        "outputId": "0e69003c-e91b-411a-cd82-d01a2d2cbe1a"
      },
      "execution_count": null,
      "outputs": [
        {
          "output_type": "stream",
          "name": "stdout",
          "text": [
            "Numeros impares: [1, 3, 5, 7, 9, 11, 13, 15, 17, 19, 21, 23, 25, 27, 29, 31, 33, 35, 37, 39, 41, 43, 45, 47, 49, 51, 53, 55, 57, 59, 61, 63, 65, 67, 69, 71, 73, 75, 77, 79, 81, 83, 85, 87, 89, 91, 93, 95, 97, 99, 101, 103, 105, 107, 109, 111, 113, 115, 117, 119, 121, 123, 125, 127, 129, 131, 133, 135, 137, 139, 141, 143, 145, 147, 149, 151, 153, 155, 157, 159, 161, 163, 165, 167, 169, 171, 173, 175, 177, 179, 181, 183, 185, 187, 189, 191, 193, 195, 197, 199, 201, 203, 205, 207, 209, 211, 213, 215, 217, 219, 221, 223, 225, 227, 229, 231, 233, 235, 237, 239, 241, 243, 245, 247, 249, 251, 253, 255, 257, 259, 261, 263, 265, 267, 269, 271, 273, 275, 277, 279, 281, 283, 285, 287, 289, 291, 293, 295, 297, 299, 301, 303, 305, 307, 309, 311, 313, 315, 317, 319, 321, 323, 325, 327, 329, 331, 333, 335, 337, 339, 341, 343, 345, 347, 349, 351, 353, 355, 357, 359, 361, 363, 365, 367, 369, 371, 373, 375, 377, 379, 381, 383, 385, 387, 389, 391, 393, 395, 397, 399, 401, 403, 405, 407, 409, 411, 413, 415, 417, 419, 421, 423, 425, 427, 429, 431, 433, 435, 437, 439, 441, 443, 445, 447, 449, 451, 453, 455, 457, 459, 461, 463, 465, 467, 469, 471, 473, 475, 477, 479, 481, 483, 485, 487, 489, 491, 493, 495, 497, 499, 501, 503, 505, 507, 509, 511, 513, 515, 517, 519, 521, 523, 525, 527, 529, 531, 533, 535, 537, 539, 541, 543, 545, 547, 549, 551, 553, 555, 557, 559, 561, 563, 565, 567, 569, 571, 573, 575, 577, 579, 581, 583, 585, 587, 589, 591, 593, 595, 597, 599, 601, 603, 605, 607, 609, 611, 613, 615, 617, 619, 621, 623, 625, 627, 629, 631, 633, 635, 637, 639, 641, 643, 645, 647, 649, 651, 653, 655, 657, 659, 661, 663, 665, 667, 669, 671, 673, 675, 677, 679, 681, 683, 685, 687, 689, 691, 693, 695, 697, 699, 701, 703, 705, 707, 709, 711, 713, 715, 717, 719, 721, 723, 725, 727, 729, 731, 733, 735, 737, 739, 741, 743, 745, 747, 749, 751, 753, 755, 757, 759, 761, 763, 765, 767, 769, 771, 773, 775, 777, 779, 781, 783, 785, 787, 789, 791, 793, 795, 797, 799, 801, 803, 805, 807, 809, 811, 813, 815, 817, 819, 821, 823, 825, 827, 829, 831, 833, 835, 837, 839, 841, 843, 845, 847, 849, 851, 853, 855, 857, 859, 861, 863, 865, 867, 869, 871, 873, 875, 877, 879, 881, 883, 885, 887, 889, 891, 893, 895, 897, 899, 901, 903, 905, 907, 909, 911, 913, 915, 917, 919, 921, 923, 925, 927, 929, 931, 933, 935, 937, 939, 941, 943, 945, 947, 949, 951, 953, 955, 957, 959, 961, 963, 965, 967, 969, 971, 973, 975, 977, 979, 981, 983, 985, 987, 989, 991, 993, 995, 997, 999]\n",
            "Numeros pares: [2, 4, 6, 8, 10, 12, 14, 16, 18, 20, 22, 24, 26, 28, 30, 32, 34, 36, 38, 40, 42, 44, 46, 48, 50, 52, 54, 56, 58, 60, 62, 64, 66, 68, 70, 72, 74, 76, 78, 80, 82, 84, 86, 88, 90, 92, 94, 96, 98, 100, 102, 104, 106, 108, 110, 112, 114, 116, 118, 120, 122, 124, 126, 128, 130, 132, 134, 136, 138, 140, 142, 144, 146, 148, 150, 152, 154, 156, 158, 160, 162, 164, 166, 168, 170, 172, 174, 176, 178, 180, 182, 184, 186, 188, 190, 192, 194, 196, 198, 200, 202, 204, 206, 208, 210, 212, 214, 216, 218, 220, 222, 224, 226, 228, 230, 232, 234, 236, 238, 240, 242, 244, 246, 248, 250, 252, 254, 256, 258, 260, 262, 264, 266, 268, 270, 272, 274, 276, 278, 280, 282, 284, 286, 288, 290, 292, 294, 296, 298, 300, 302, 304, 306, 308, 310, 312, 314, 316, 318, 320, 322, 324, 326, 328, 330, 332, 334, 336, 338, 340, 342, 344, 346, 348, 350, 352, 354, 356, 358, 360, 362, 364, 366, 368, 370, 372, 374, 376, 378, 380, 382, 384, 386, 388, 390, 392, 394, 396, 398, 400, 402, 404, 406, 408, 410, 412, 414, 416, 418, 420, 422, 424, 426, 428, 430, 432, 434, 436, 438, 440, 442, 444, 446, 448, 450, 452, 454, 456, 458, 460, 462, 464, 466, 468, 470, 472, 474, 476, 478, 480, 482, 484, 486, 488, 490, 492, 494, 496, 498, 500, 502, 504, 506, 508, 510, 512, 514, 516, 518, 520, 522, 524, 526, 528, 530, 532, 534, 536, 538, 540, 542, 544, 546, 548, 550, 552, 554, 556, 558, 560, 562, 564, 566, 568, 570, 572, 574, 576, 578, 580, 582, 584, 586, 588, 590, 592, 594, 596, 598, 600, 602, 604, 606, 608, 610, 612, 614, 616, 618, 620, 622, 624, 626, 628, 630, 632, 634, 636, 638, 640, 642, 644, 646, 648, 650, 652, 654, 656, 658, 660, 662, 664, 666, 668, 670, 672, 674, 676, 678, 680, 682, 684, 686, 688, 690, 692, 694, 696, 698, 700, 702, 704, 706, 708, 710, 712, 714, 716, 718, 720, 722, 724, 726, 728, 730, 732, 734, 736, 738, 740, 742, 744, 746, 748, 750, 752, 754, 756, 758, 760, 762, 764, 766, 768, 770, 772, 774, 776, 778, 780, 782, 784, 786, 788, 790, 792, 794, 796, 798, 800, 802, 804, 806, 808, 810, 812, 814, 816, 818, 820, 822, 824, 826, 828, 830, 832, 834, 836, 838, 840, 842, 844, 846, 848, 850, 852, 854, 856, 858, 860, 862, 864, 866, 868, 870, 872, 874, 876, 878, 880, 882, 884, 886, 888, 890, 892, 894, 896, 898, 900, 902, 904, 906, 908, 910, 912, 914, 916, 918, 920, 922, 924, 926, 928, 930, 932, 934, 936, 938, 940, 942, 944, 946, 948, 950, 952, 954, 956, 958, 960, 962, 964, 966, 968, 970, 972, 974, 976, 978, 980, 982, 984, 986, 988, 990, 992, 994, 996, 998, 1000]\n"
          ]
        }
      ]
    },
    {
      "cell_type": "markdown",
      "source": [
        "3. Imprimir los números pares en forma descendente hasta 2 que son menores o iguales a un número natural n ≥ 2 dado"
      ],
      "metadata": {
        "id": "ow17ZTTA4KyJ"
      }
    },
    {
      "cell_type": "code",
      "source": [
        "def contador():\n",
        "  for i in range(n,1, -1): # Rango creado\n",
        "    if i%2==0: #Clasificacion y contador de nuemros pares\n",
        "      print(i)\n",
        "\n",
        "if __name__ == '__main__': # funcion principal\n",
        "  n = int(input('Ingrese un numero: ')) #entrada de dato n\n",
        "  contador()"
      ],
      "metadata": {
        "colab": {
          "base_uri": "https://localhost:8080/"
        },
        "id": "MNWVNecY4YXI",
        "outputId": "290ced07-136f-4784-b5fd-d36ad23b72a0"
      },
      "execution_count": null,
      "outputs": [
        {
          "output_type": "stream",
          "name": "stdout",
          "text": [
            "Ingrese un numero: 22\n",
            "22\n",
            "20\n",
            "18\n",
            "16\n",
            "14\n",
            "12\n",
            "10\n",
            "8\n",
            "6\n",
            "4\n",
            "2\n"
          ]
        }
      ]
    },
    {
      "cell_type": "markdown",
      "source": [
        "4. Imprimir los números de 1 hasta un número natural n dado, cada uno con su respectivo factorial"
      ],
      "metadata": {
        "id": "dEPvp5v742ag"
      }
    },
    {
      "cell_type": "code",
      "source": [
        "def fact(n): #se crea la funcion\n",
        "  if n == 0: #se crea el bucle, terminandolo en si n es igual a 0, da 1\n",
        "    return 1\n",
        "  else:\n",
        "    return n * fact(n-1) #se hace la operacion\n",
        "\n",
        "n = int(input(\"Ingrese un número natural: \")) #la entrada del dato n\n",
        "\n",
        "for i in range(1, n + 1): # Se crea el rango\n",
        "  print(f\"{i}! = {fact(i)}\") # Se hace el print para crear la lista"
      ],
      "metadata": {
        "colab": {
          "base_uri": "https://localhost:8080/"
        },
        "id": "0wCKg0IV44pf",
        "outputId": "e908169c-9fae-4f30-cd81-234dd7088ced"
      },
      "execution_count": null,
      "outputs": [
        {
          "output_type": "stream",
          "name": "stdout",
          "text": [
            "Ingrese un número natural: 7\n",
            "1! = 1\n",
            "2! = 2\n",
            "3! = 6\n",
            "4! = 24\n",
            "5! = 120\n",
            "6! = 720\n",
            "7! = 5040\n"
          ]
        }
      ]
    },
    {
      "cell_type": "markdown",
      "source": [
        "5. Calcular el valor de 2 elevado a la potencia n usando ciclos for."
      ],
      "metadata": {
        "id": "jAd7v_vlEgB4"
      }
    },
    {
      "cell_type": "code",
      "source": [
        "expo=int(input(\"ingresa el exponente: \")) #ingreso de los datos\n",
        "\n",
        "exp=1 #se iguala a 1 porque va a ser el rango q vaya a llevar las potencias\n",
        "for i in range(expo): # se crea el rango con el dato ingresado\n",
        "  exp*=2 # se hace la operacion de conteo\n",
        "print((f\"2 elevado a la {expo} es igual a {exp}\" )) #se imprime el resultado"
      ],
      "metadata": {
        "colab": {
          "base_uri": "https://localhost:8080/"
        },
        "id": "oW-PJvLqrPcL",
        "outputId": "a080d38e-0d5e-491f-be62-d758a42edb20"
      },
      "execution_count": null,
      "outputs": [
        {
          "output_type": "stream",
          "name": "stdout",
          "text": [
            "ingresa el exponente: 5\n",
            "2 elevado a la 5 es igual a 32\n"
          ]
        }
      ]
    },
    {
      "cell_type": "markdown",
      "source": [
        "6. Leer un número natural n, leer otro dato de tipo real x y calcular x^n usando ciclos for. Disclaimer: Trate de no utilizar el operador de potencia (**)."
      ],
      "metadata": {
        "id": "zc56NgCtLGNI"
      }
    },
    {
      "cell_type": "code",
      "source": [
        "def potencia(): #Creacion de la funcion\n",
        "  n = int(input(\"Ingrese un número natural n: \")) # ingreso de dato\n",
        "  x = float(input(\"Ingrese un número real x: \")) # ingreso de dato\n",
        "\n",
        "  resultado = 1 #se iguala a 1 para llevar el conteo\n",
        "  for _ in range(n): #Se crea el rango con n como exponente\n",
        "    resultado *= x # se hace la operacion\n",
        "\n",
        "  print(f\"{x}^{n} = {resultado}\") # el resultado\n",
        "\n",
        "if __name__ == \"__main__\":\n",
        "  potencia()"
      ],
      "metadata": {
        "colab": {
          "base_uri": "https://localhost:8080/"
        },
        "id": "z2OpV0ie1U3S",
        "outputId": "936866c9-facf-4405-9169-352e4fd9bf41"
      },
      "execution_count": null,
      "outputs": [
        {
          "output_type": "stream",
          "name": "stdout",
          "text": [
            "Ingrese un número natural n: 5\n",
            "Ingrese un número real x: 2\n",
            "2.0^5 = 32.0\n"
          ]
        }
      ]
    },
    {
      "cell_type": "markdown",
      "source": [
        "7. Diseñe un programa que muestre las tablas de multiplicar del 1 al 9."
      ],
      "metadata": {
        "id": "tCTQCO4g1-8r"
      }
    },
    {
      "cell_type": "code",
      "source": [
        "def tablas(): #se crea la funcion\n",
        "  for i in range(1, n+1): #se crea el primer rango con el numero n dado para crear ese numero de tablas\n",
        "    print(f\"\\nTabla de multiplicar del {i}:\") # encabezado de cada tabla de multiplicar\n",
        "    for j in range(1, 11): # se crea el segundo rango para hacer el numero de multiplicaciones\n",
        "      print(f\"{i} x {j} = {i * j}\") #operacion y al mismo tiempo la lista\n",
        "\n",
        "if __name__ == \"__main__\": #se crea la funcion principal\n",
        "  n=int(input(\"Ingrese el numero de tablas: \")) #ingreso de dato\n",
        "  tablas() #se hace el llamado a la funcion de las tablas"
      ],
      "metadata": {
        "colab": {
          "base_uri": "https://localhost:8080/"
        },
        "id": "Gv9jhYTH24Oz",
        "outputId": "a5c84064-9a3c-4fa0-e9df-4afd79ba7e46"
      },
      "execution_count": null,
      "outputs": [
        {
          "output_type": "stream",
          "name": "stdout",
          "text": [
            "Ingrese el numero de tablas: 9\n",
            "\n",
            "Tabla de multiplicar del 1:\n",
            "1 x 1 = 1\n",
            "1 x 2 = 2\n",
            "1 x 3 = 3\n",
            "1 x 4 = 4\n",
            "1 x 5 = 5\n",
            "1 x 6 = 6\n",
            "1 x 7 = 7\n",
            "1 x 8 = 8\n",
            "1 x 9 = 9\n",
            "1 x 10 = 10\n",
            "\n",
            "Tabla de multiplicar del 2:\n",
            "2 x 1 = 2\n",
            "2 x 2 = 4\n",
            "2 x 3 = 6\n",
            "2 x 4 = 8\n",
            "2 x 5 = 10\n",
            "2 x 6 = 12\n",
            "2 x 7 = 14\n",
            "2 x 8 = 16\n",
            "2 x 9 = 18\n",
            "2 x 10 = 20\n",
            "\n",
            "Tabla de multiplicar del 3:\n",
            "3 x 1 = 3\n",
            "3 x 2 = 6\n",
            "3 x 3 = 9\n",
            "3 x 4 = 12\n",
            "3 x 5 = 15\n",
            "3 x 6 = 18\n",
            "3 x 7 = 21\n",
            "3 x 8 = 24\n",
            "3 x 9 = 27\n",
            "3 x 10 = 30\n",
            "\n",
            "Tabla de multiplicar del 4:\n",
            "4 x 1 = 4\n",
            "4 x 2 = 8\n",
            "4 x 3 = 12\n",
            "4 x 4 = 16\n",
            "4 x 5 = 20\n",
            "4 x 6 = 24\n",
            "4 x 7 = 28\n",
            "4 x 8 = 32\n",
            "4 x 9 = 36\n",
            "4 x 10 = 40\n",
            "\n",
            "Tabla de multiplicar del 5:\n",
            "5 x 1 = 5\n",
            "5 x 2 = 10\n",
            "5 x 3 = 15\n",
            "5 x 4 = 20\n",
            "5 x 5 = 25\n",
            "5 x 6 = 30\n",
            "5 x 7 = 35\n",
            "5 x 8 = 40\n",
            "5 x 9 = 45\n",
            "5 x 10 = 50\n",
            "\n",
            "Tabla de multiplicar del 6:\n",
            "6 x 1 = 6\n",
            "6 x 2 = 12\n",
            "6 x 3 = 18\n",
            "6 x 4 = 24\n",
            "6 x 5 = 30\n",
            "6 x 6 = 36\n",
            "6 x 7 = 42\n",
            "6 x 8 = 48\n",
            "6 x 9 = 54\n",
            "6 x 10 = 60\n",
            "\n",
            "Tabla de multiplicar del 7:\n",
            "7 x 1 = 7\n",
            "7 x 2 = 14\n",
            "7 x 3 = 21\n",
            "7 x 4 = 28\n",
            "7 x 5 = 35\n",
            "7 x 6 = 42\n",
            "7 x 7 = 49\n",
            "7 x 8 = 56\n",
            "7 x 9 = 63\n",
            "7 x 10 = 70\n",
            "\n",
            "Tabla de multiplicar del 8:\n",
            "8 x 1 = 8\n",
            "8 x 2 = 16\n",
            "8 x 3 = 24\n",
            "8 x 4 = 32\n",
            "8 x 5 = 40\n",
            "8 x 6 = 48\n",
            "8 x 7 = 56\n",
            "8 x 8 = 64\n",
            "8 x 9 = 72\n",
            "8 x 10 = 80\n",
            "\n",
            "Tabla de multiplicar del 9:\n",
            "9 x 1 = 9\n",
            "9 x 2 = 18\n",
            "9 x 3 = 27\n",
            "9 x 4 = 36\n",
            "9 x 5 = 45\n",
            "9 x 6 = 54\n",
            "9 x 7 = 63\n",
            "9 x 8 = 72\n",
            "9 x 9 = 81\n",
            "9 x 10 = 90\n"
          ]
        }
      ]
    },
    {
      "cell_type": "markdown",
      "source": [
        "8. Diseñar una función que permita calcular una aproximación de la función exponencial alrededor de 0 para cualquier valor x (real), utilizando los primeros n términos de la serie de Taylor. Nota: use math para traer la función exponencial y mostrar la diferencia entre el valor real y la aproximación.\n",
        "!![image.png](data:image/png;base64,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)"
      ],
      "metadata": {
        "id": "lnHvv7A-3Tb2"
      }
    },
    {
      "cell_type": "code",
      "source": [
        "import math #Se importa la libreria math\n",
        "\n",
        "def aprox(x, n): # se crea la funcion\n",
        "    pez= 0 #Esta variable lleva la cuenta\n",
        "    for i in range(0,n+1): #se crea el rango, haciendo de sumatoria\n",
        "      pavo= (x**i) / math.factorial(i) # se importa la funcion para el calculo, y se agrega a la formula\n",
        "      pez+=pavo #Aqui se realiza la sumatoria\n",
        "    return pez\n",
        "#Funcion principal y solicitud de datos\n",
        "if __name__ == \"__main__\":\n",
        "    x = float(input(\"Ingrese el valor de x: \"))\n",
        "    n = int(input(\"Ingrese el número de términos de la serie de Taylor: \"))\n",
        "\n",
        "    real:float=math.exp(x) #mediante la funcion importada se hace el calculo del valor real\n",
        "    diferencia:float=real-aprox(x,n) #aqui se restan para obtener la diferencia\n",
        "\n",
        "  # Resultados\n",
        "    print(f\"Aproximación de e^{x} con {n} términos: {aprox(x,n)}\")\n",
        "    print(f\"Valor real de e^{x}: {real}\")\n",
        "    print(f\"Diferencia entre el valor real y la aproximación: {diferencia}\")"
      ],
      "metadata": {
        "colab": {
          "base_uri": "https://localhost:8080/"
        },
        "id": "l7bR0693ndkQ",
        "outputId": "fec69b58-59c5-4797-eb4b-021d0d218e25"
      },
      "execution_count": 12,
      "outputs": [
        {
          "output_type": "stream",
          "name": "stdout",
          "text": [
            "Ingrese el valor de x: 4\n",
            "Ingrese el número de términos de la serie de Taylor: 8\n",
            "Aproximación de e^4.0 con 8 términos: 53.43174603174603\n",
            "Valor real de e^4.0: 54.598150033144236\n",
            "Diferencia entre el valor real y la aproximación: 1.166404001398206\n"
          ]
        }
      ]
    },
    {
      "cell_type": "markdown",
      "source": [
        "9. Diseñar una función que permita calcular una aproximación de la función seno alrededor de 0 para cualquier valor x (real), utilizando los primeros n términos de la serie de Maclaurin. Nota: use math para traer la función seno y mostrar la diferencia entre el valor real y la aproximación.![image.png](data:image/png;base64,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)"
      ],
      "metadata": {
        "id": "d3RlSQ4iqFSv"
      }
    },
    {
      "cell_type": "code",
      "source": [
        "import math\n",
        "\n",
        "def seno(x, n):\n",
        "    pez= 0\n",
        "    for i in range(0,n+1):\n",
        "      pavo= ((-1)**i)*((x**((2*i)+1))/math.factorial(2*i+1))\n",
        "      pez+=pavo\n",
        "    return pez\n",
        "\n",
        "if __name__ == \"__main__\":\n",
        "    x = float(input(\"Ingrese el valor de x (sin(x)) en radianes: \"))\n",
        "    n = int(input(\"Ingrese el número de términos relacionados con la exactitud de aproximación: \"))\n",
        "\n",
        "    real:float=math.sin(x)\n",
        "    diferencia:float=real-seno(x,n)\n",
        "\n",
        "    print(f\"Aproximación de sin({x}) con {n} términos: {seno(x,n)}\")\n",
        "    print(f\"Valor real en radianes es: {real}\")\n",
        "    print(f\"Diferencia entre el valor real y la aproximación: {diferencia}\")"
      ],
      "metadata": {
        "colab": {
          "base_uri": "https://localhost:8080/"
        },
        "id": "g__pJOJ7qPXr",
        "outputId": "79408a1c-f855-41c1-fc72-215ddece9c99"
      },
      "execution_count": 13,
      "outputs": [
        {
          "output_type": "stream",
          "name": "stdout",
          "text": [
            "Ingrese el valor de x (sin(x)) en radianes: 22\n",
            "Ingrese el número de términos relacionados con la exactitud de aproximación: 6\n",
            "Aproximación de sin(22.0) con 6 términos: 33651378.06153122\n",
            "Valor real en radianes es: -0.008851309290403876\n",
            "Diferencia entre el valor real y la aproximación: -33651378.070382535\n"
          ]
        }
      ]
    }
  ]
}